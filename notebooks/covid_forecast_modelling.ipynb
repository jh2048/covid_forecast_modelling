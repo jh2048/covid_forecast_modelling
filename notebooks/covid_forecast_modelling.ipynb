{
 "cells": [
  {
   "cell_type": "markdown",
   "metadata": {},
   "source": [
    "# COVID Forecast Modelling\n",
    "\n",
    "When COVID presented a new challenge for modelling, the models used for forecasting developed. Traditionally, an SIR model has been used. Advancing introduced the SEIR model. Even then, it was difficult to forecast the effects of COVID. There have been further developments in this area that use agent-based models to reinact the behaviours and profiles of people that will affect their exposure, their chances of infection, their chances of asymptomatic presentation of the virus and of course, the recovery outcome. This problem is not a simple one when we consider the variations in physiology and their environment, including not only factors such as population density but also cultural differences and the decisions made by the world leaders. For more information about the complicated nature of forecasting COVID, this [article](https://media.nature.com/original/magazine-assets/d41586-020-01003-6/d41586-020-01003-6.pdf) gives a high-level overview of the challenges and trails that were experienced by professionals modelling the virus. "
   ]
  },
  {
   "cell_type": "markdown",
   "metadata": {},
   "source": [
    "In order to tackle this challenge, I have chosen to develop on a prepared model whose author [Boris Tseytlin](https://github.com/btseytlin) is experienced in the area with [publications](https://arxiv.org/abs/2106.08048) to support their work.  Data in this model was taken from a freely available [source](https://yandex.ru/covid19/stat) which gives values for COVID related information from Moscow. \n",
    "\n",
    "The parameters, input values and assumptions used to build this model are based on real-world information from Moscow. We seen that during COVID, each world leader made decisions to handle and reduce the effects of the virus on their population. "
   ]
  },
  {
   "cell_type": "markdown",
   "metadata": {},
   "source": [
    "We can use the code here to evaluate how well fitted this model would be on data from other countries. We can expect that without any real world information to amend and improve accuracy, that the model's accuracy will be reduced. Plugging in an estimate of the lockdown phases and adjusting the model to account for population density, we want to explore the difference population density causes. \n",
    "\n",
    "Population density is an interesting factor that posed a significant challenge during covid, particularly in cities where it was difficult to self-isolate and keep space between people. We are hoping that by introducing a factor for population density, we can get an idea of cultural differences??"
   ]
  },
  {
   "cell_type": "markdown",
   "metadata": {},
   "source": []
  },
  {
   "cell_type": "markdown",
   "metadata": {},
   "source": []
  }
 ],
 "metadata": {
  "kernelspec": {
   "display_name": "Python 3.8.10 64-bit",
   "language": "python",
   "name": "python3"
  },
  "language_info": {
   "name": "python",
   "version": "3.8.10"
  },
  "orig_nbformat": 4,
  "vscode": {
   "interpreter": {
    "hash": "e7370f93d1d0cde622a1f8e1c04877d8463912d04d973331ad4851f04de6915a"
   }
  }
 },
 "nbformat": 4,
 "nbformat_minor": 2
}
